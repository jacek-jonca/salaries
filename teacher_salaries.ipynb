{
 "cells": [
  {
   "cell_type": "code",
   "execution_count": 1,
   "metadata": {},
   "outputs": [
    {
     "name": "stdout",
     "output_type": "stream",
     "text": [
      "count        6.000000\n",
      "mean     68241.125977\n",
      "std       7945.407727\n",
      "min      57822.743806\n",
      "25%      65044.111312\n",
      "50%      66605.317283\n",
      "75%      71025.639744\n",
      "max      81390.587604\n",
      "Name: Public_Salary, dtype: float64\n"
     ]
    }
   ],
   "source": [
    "import pandas as pd\n",
    "\n",
    "# known municipalities/counties with schools within 30 miles of Golden - https://www.schoolsk-12.com/Colorado/Golden/index.html\n",
    "neighbors = {\"Evergreen\", \"Wheat Ridge\", \"Arvada\", \"Black Hawk\", \"Rollinsville\", \"Denver\", \"Westminster\", \"Broomfield\", \"Littleton\", \"Commerce City\", \"Louisville\", \"Englewood\", \"Boulder\", \"Lafayette\", \"Eastlake\", \"Aurora\", \"Brighton\", \"Longmont\", \"Niwot\", \"Frederick\", \"Golden\", \"Jefferson\"}    \n",
    "\n",
    "# data from https://www.cde.state.co.us/cdereval/staffcurrent\n",
    "df = pd.read_excel(\"https://www.cde.state.co.us/cdereval/2019-20averagesalariesforteachersxls\")\n",
    "\n",
    "# cleanup\n",
    "df = df.iloc[4:-1] # drop table title row and Total summary row\n",
    "df = df.reset_index(drop=True) # reindex\n",
    "df.columns = [\"Code\", \"Name\", \"Charter_FTE\", \"Charter_Salary\", \"Public_FTE\", \"Public_Salary\", \"All_FTE\", \"All_Salary\"] # assign column names\n",
    "df['Public_Salary'] = pd.to_numeric(df.Public_Salary, errors='coerce')  # fix the datatype from object to float\n",
    "\n",
    "# set new dataframe shell\n",
    "teacher = pd.DataFrame(columns=df.columns)\n",
    "\n",
    "for i in range(len(df.index)):\n",
    "    if any(x in df['Name'][i] for x in neighbors):\n",
    "        teacher.loc[len(teacher)] = [df[j][i] for j in df.columns]\n",
    "\n",
    "#teacher.to_csv(\"/Users/jacek/Downloads/teacher_salaries.csv\", index=False)\n",
    "\n",
    "teacher_summary = teacher['Public_Salary'].describe()\n",
    "print(teacher_summary)\n"
   ]
  },
  {
   "cell_type": "code",
   "execution_count": null,
   "metadata": {},
   "outputs": [],
   "source": []
  }
 ],
 "metadata": {
  "kernelspec": {
   "display_name": "Python 3",
   "language": "python",
   "name": "python3"
  },
  "language_info": {
   "codemirror_mode": {
    "name": "ipython",
    "version": 3
   },
   "file_extension": ".py",
   "mimetype": "text/x-python",
   "name": "python",
   "nbconvert_exporter": "python",
   "pygments_lexer": "ipython3",
   "version": "3.7.6"
  }
 },
 "nbformat": 4,
 "nbformat_minor": 4
}
