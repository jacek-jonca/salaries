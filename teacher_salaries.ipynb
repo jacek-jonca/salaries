{
 "cells": [
  {
   "cell_type": "markdown",
   "metadata": {},
   "source": [
    "<img src=\"https://jonca.org/images/logo-dark.png\" width=\"200\" align=\"center\">\n",
   ]
  },
  {
   "cell_type": "code",
   "execution_count": 11,
   "metadata": {},
   "outputs": [
    {
     "data": {
      "text/html": [
       "<style>\n",
       "    table#totalID {color='black';font-size:13px; text-align:center; border:0.2px solid black;\n",
       "                         border-collapse:collapse; table-layout:fixed; height=\"250\"; text-align:center }\n",
       "    thead#headerID {background-color: #4D4D4D; color:#ffffff}\n",
       "    </style><table id=totalID  border=\"1\" class=\"dataframe\">\n",
       "  <thead id=headerID >\n",
       "    <tr style=\"text-align: right;\">\n",
       "      <th></th>\n",
       "      <th>Salary</th>\n",
       "    </tr>\n",
       "  </thead>\n",
       "  <tbody>\n",
       "    <tr>\n",
       "      <th>count</th>\n",
       "      <td>6.000000</td>\n",
       "    </tr>\n",
       "    <tr>\n",
       "      <th>mean</th>\n",
       "      <td>68241.125977</td>\n",
       "    </tr>\n",
       "    <tr>\n",
       "      <th>std</th>\n",
       "      <td>7945.407727</td>\n",
       "    </tr>\n",
       "    <tr>\n",
       "      <th>min</th>\n",
       "      <td>57822.743806</td>\n",
       "    </tr>\n",
       "    <tr>\n",
       "      <th>25%</th>\n",
       "      <td>65044.111312</td>\n",
       "    </tr>\n",
       "    <tr>\n",
       "      <th>50%</th>\n",
       "      <td>66605.317283</td>\n",
       "    </tr>\n",
       "    <tr>\n",
       "      <th>75%</th>\n",
       "      <td>71025.639744</td>\n",
       "    </tr>\n",
       "    <tr>\n",
       "      <th>max</th>\n",
       "      <td>81390.587604</td>\n",
       "    </tr>\n",
       "  </tbody>\n",
       "</table>"
      ],
      "text/plain": [
       "<IPython.core.display.HTML object>"
      ]
     },
     "execution_count": 11,
     "metadata": {},
     "output_type": "execute_result"
    }
   ],
   "source": [
    "import pandas as pd\n",
    "\n",
    "# known municipalities/counties with schools within 30 miles of Golden - https://www.schoolsk-12.com/Colorado/Golden/index.html\n",
    "neighbors = {\"Evergreen\", \"Wheat Ridge\", \"Arvada\", \"Black Hawk\", \"Rollinsville\", \"Denver\", \"Westminster\", \"Broomfield\", \"Littleton\", \"Commerce City\", \"Louisville\", \"Englewood\", \"Boulder\", \"Lafayette\", \"Eastlake\", \"Aurora\", \"Brighton\", \"Longmont\", \"Niwot\", \"Frederick\", \"Golden\", \"Jefferson\"}    \n",
    "\n",
    "# data from https://www.cde.state.co.us/cdereval/staffcurrent\n",
    "df = pd.read_excel(\"https://www.cde.state.co.us/cdereval/2019-20averagesalariesforteachersxls\")\n",
    "\n",
    "# cleanup\n",
    "df = df.iloc[4:-1] # drop table title row and Total summary row\n",
    "df = df.reset_index(drop=True) # reindex\n",
    "df.columns = [\"Code\", \"Name\", \"Charter_FTE\", \"Charter_Salary\", \"Public_FTE\", \"Public_Salary\", \"All_FTE\", \"All_Salary\"] # assign column names\n",
    "df['Public_Salary'] = pd.to_numeric(df.Public_Salary, errors='coerce')  # fix the datatype from object to float\n",
    "\n",
    "# set new dataframe shell\n",
    "teacher = pd.DataFrame(columns=df.columns)\n",
    "\n",
    "for i in range(len(df.index)):\n",
    "    if any(x in df['Name'][i] for x in neighbors):\n",
    "        teacher.loc[len(teacher)] = [df[j][i] for j in df.columns]\n",
    "\n",
    "#teacher.to_csv(\"/Users/jacek/Downloads/teacher_salaries.csv\", index=False)\n",
    "\n",
    "teacher_summary = teacher['Public_Salary'].describe()\n",
    "#print(teacher_summary)\n",
    "\n",
    "#format descriptives as HTML table\n",
    "tst = pd.DataFrame(teacher_summary)\n",
    "\n",
    "data_in_html = tst.to_html(index=True)\n",
    "import re\n",
    "data_in_html = re.sub(r'Public_Salary', r'Salary', data_in_html)\n",
    "total_id = 'totalID'\n",
    "header_id = 'headerID'\n",
    "style_in_html = \"\"\"<style>\n",
    "    table#{total_table} {{color='black';font-size:13px; text-align:center; border:0.2px solid black;\n",
    "                         border-collapse:collapse; table-layout:fixed; height=\"250\"; text-align:center }}\n",
    "    thead#{header_table} {{background-color: #4D4D4D; color:#ffffff}}\n",
    "    </style>\"\"\".format(total_table=total_id, header_table=header_id)\n",
    "data_in_html = re.sub(r'<table', r'<table id=%s ' % total_id, data_in_html)\n",
    "data_in_html = re.sub(r'<thead', r'<thead id=%s ' % header_id, data_in_html)\n",
    "\n",
    "from IPython.display import HTML\n",
    "HTML(style_in_html + data_in_html)"
   ]
  },
  {
   "cell_type": "code",
   "execution_count": null,
   "metadata": {},
   "outputs": [],
   "source": []
  }
 ],
 "metadata": {
  "kernelspec": {
   "display_name": "Python 3",
   "language": "python",
   "name": "python3"
  },
  "language_info": {
   "codemirror_mode": {
    "name": "ipython",
    "version": 3
   },
   "file_extension": ".py",
   "mimetype": "text/x-python",
   "name": "python",
   "nbconvert_exporter": "python",
   "pygments_lexer": "ipython3",
   "version": "3.7.6"
  }
 },
 "nbformat": 4,
 "nbformat_minor": 4
}
