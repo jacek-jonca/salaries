{
 "cells": [
  {
   "cell_type": "code",
   "execution_count": 2,
   "metadata": {},
   "outputs": [
    {
     "data": {
      "text/html": [
       "<style>\n",
       "    table#totalID {color='black';font-size:13px; text-align:center; border:0.2px solid black;\n",
       "                         border-collapse:collapse; table-layout:fixed; height=\"250\"; text-align:center }\n",
       "    thead#headerID {background-color: #4D4D4D; color:#ffffff}\n",
       "    </style><table id=totalID  border=\"1\" class=\"dataframe\">\n",
       "  <thead id=headerID >\n",
       "    <tr style=\"text-align: right;\">\n",
       "      <th></th>\n",
       "      <th>Salary</th>\n",
       "    </tr>\n",
       "  </thead>\n",
       "  <tbody>\n",
       "    <tr>\n",
       "      <th>count</th>\n",
       "      <td>6.000000</td>\n",
       "    </tr>\n",
       "    <tr>\n",
       "      <th>mean</th>\n",
       "      <td>103013.954888</td>\n",
       "    </tr>\n",
       "    <tr>\n",
       "      <th>std</th>\n",
       "      <td>8956.791146</td>\n",
       "    </tr>\n",
       "    <tr>\n",
       "      <th>min</th>\n",
       "      <td>91389.179501</td>\n",
       "    </tr>\n",
       "    <tr>\n",
       "      <th>25%</th>\n",
       "      <td>97832.909812</td>\n",
       "    </tr>\n",
       "    <tr>\n",
       "      <th>50%</th>\n",
       "      <td>102485.570448</td>\n",
       "    </tr>\n",
       "    <tr>\n",
       "      <th>75%</th>\n",
       "      <td>106967.699943</td>\n",
       "    </tr>\n",
       "    <tr>\n",
       "      <th>max</th>\n",
       "      <td>116979.642887</td>\n",
       "    </tr>\n",
       "  </tbody>\n",
       "</table>"
      ],
      "text/plain": [
       "<IPython.core.display.HTML object>"
      ]
     },
     "execution_count": 2,
     "metadata": {},
     "output_type": "execute_result"
    }
   ],
   "source": [
    "import pandas as pd\n",
    "\n",
    "# known municipalities/counties with schools within 30 miles of Golden - https://www.schoolsk-12.com/Colorado/Golden/index.html\n",
    "neighbors = {\"Evergreen\", \"Wheat Ridge\", \"Arvada\", \"Black Hawk\", \"Rollinsville\", \"Denver\", \"Westminster\", \"Broomfield\", \"Littleton\", \"Commerce City\", \"Louisville\", \"Englewood\", \"Boulder\", \"Lafayette\", \"Eastlake\", \"Aurora\", \"Brighton\", \"Longmont\", \"Niwot\", \"Frederick\", \"Golden\", \"Jefferson\"}    \n",
    "\n",
    "#\n",
    "# Principals\n",
    "#\n",
    "\n",
    "# data from https://www.cde.state.co.us/cdereval/staffcurrent\n",
    "df2 = pd.read_excel(\"https://www.cde.state.co.us/cdereval/2019-20principalandassistantprincipalbyaveragesalarybydistrictxls\")\n",
    "\n",
    "# cleanup\n",
    "df2 = df2.iloc[2:-1] # drop table title row and Total summary row\n",
    "df2 = df2.reset_index(drop=True) # reindex\n",
    "df2.columns = [\"Year\", \"Code\", \"Name\", \"Total_FTE\", \"Salary\"] # assign column names\n",
    "df2['Salary'] = df2.Salary.astype(float) # fix the datatype from object to float\n",
    "\n",
    "# set new dataframe shell\n",
    "principal = pd.DataFrame(columns=df2.columns)\n",
    "\n",
    "for i in range(len(df2.index)):\n",
    "    if any(x in df2['Name'][i] for x in neighbors):\n",
    "        principal.loc[len(principal)] = [df2[j][i] for j in df2.columns]\n",
    "\n",
    "#principal.to_csv(\"/Users/jacek/Downloads/principal_salaries.csv\", index=False)\n",
    "\n",
    "principal_summary = principal['Salary'].describe()\n",
    "#print(principal_summary)\n",
    "\n",
    "#format descriptives as HTML table\n",
    "tst = pd.DataFrame(principal_summary)\n",
    "\n",
    "data_in_html = tst.to_html(index=True)\n",
    "import re\n",
    "#data_in_html = re.sub(r'Public_Salary', r'Salary', data_in_html)\n",
    "total_id = 'totalID'\n",
    "header_id = 'headerID'\n",
    "style_in_html = \"\"\"<style>\n",
    "    table#{total_table} {{color='black';font-size:13px; text-align:center; border:0.2px solid black;\n",
    "                         border-collapse:collapse; table-layout:fixed; height=\"250\"; text-align:center }}\n",
    "    thead#{header_table} {{background-color: #4D4D4D; color:#ffffff}}\n",
    "    </style>\"\"\".format(total_table=total_id, header_table=header_id)\n",
    "data_in_html = re.sub(r'<table', r'<table id=%s ' % total_id, data_in_html)\n",
    "data_in_html = re.sub(r'<thead', r'<thead id=%s ' % header_id, data_in_html)\n",
    "\n",
    "from IPython.display import HTML\n",
    "HTML(style_in_html + data_in_html)\n"
   ]
  },
  {
   "cell_type": "code",
   "execution_count": null,
   "metadata": {},
   "outputs": [],
   "source": []
  }
 ],
 "metadata": {
  "kernelspec": {
   "display_name": "Python 3",
   "language": "python",
   "name": "python3"
  },
  "language_info": {
   "codemirror_mode": {
    "name": "ipython",
    "version": 3
   },
   "file_extension": ".py",
   "mimetype": "text/x-python",
   "name": "python",
   "nbconvert_exporter": "python",
   "pygments_lexer": "ipython3",
   "version": "3.7.6"
  }
 },
 "nbformat": 4,
 "nbformat_minor": 4
}
