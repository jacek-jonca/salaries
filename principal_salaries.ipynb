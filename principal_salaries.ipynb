{
 "cells": [
  {
   "cell_type": "code",
   "execution_count": 1,
   "metadata": {},
   "outputs": [
    {
     "name": "stdout",
     "output_type": "stream",
     "text": [
      "count         6.000000\n",
      "mean     103013.954888\n",
      "std        8956.791146\n",
      "min       91389.179501\n",
      "25%       97832.909812\n",
      "50%      102485.570448\n",
      "75%      106967.699943\n",
      "max      116979.642887\n",
      "Name: Salary, dtype: float64\n"
     ]
    }
   ],
   "source": [
    "import pandas as pd\n",
    "\n",
    "# known municipalities/counties with schools within 30 miles of Golden - https://www.schoolsk-12.com/Colorado/Golden/index.html\n",
    "neighbors = {\"Evergreen\", \"Wheat Ridge\", \"Arvada\", \"Black Hawk\", \"Rollinsville\", \"Denver\", \"Westminster\", \"Broomfield\", \"Littleton\", \"Commerce City\", \"Louisville\", \"Englewood\", \"Boulder\", \"Lafayette\", \"Eastlake\", \"Aurora\", \"Brighton\", \"Longmont\", \"Niwot\", \"Frederick\", \"Golden\", \"Jefferson\"}    \n",
    "\n",
    "#\n",
    "# Principals\n",
    "#\n",
    "\n",
    "# data from https://www.cde.state.co.us/cdereval/staffcurrent\n",
    "df2 = pd.read_excel(\"https://www.cde.state.co.us/cdereval/2019-20principalandassistantprincipalbyaveragesalarybydistrictxls\")\n",
    "\n",
    "# cleanup\n",
    "df2 = df2.iloc[2:-1] # drop table title row and Total summary row\n",
    "df2 = df2.reset_index(drop=True) # reindex\n",
    "df2.columns = [\"Year\", \"Code\", \"Name\", \"Total_FTE\", \"Salary\"] # assign column names\n",
    "df2['Salary'] = df2.Salary.astype(float) # fix the datatype from object to float\n",
    "\n",
    "# set new dataframe shell\n",
    "principal = pd.DataFrame(columns=df2.columns)\n",
    "\n",
    "for i in range(len(df2.index)):\n",
    "    if any(x in df2['Name'][i] for x in neighbors):\n",
    "        principal.loc[len(principal)] = [df2[j][i] for j in df2.columns]\n",
    "\n",
    "#principal.to_csv(\"/Users/jacek/Downloads/principal_salaries.csv\", index=False)\n",
    "\n",
    "principal_summary = principal['Salary'].describe()\n",
    "print(principal_summary)\n",
    "\n"
   ]
  },
  {
   "cell_type": "code",
   "execution_count": null,
   "metadata": {},
   "outputs": [],
   "source": []
  }
 ],
 "metadata": {
  "kernelspec": {
   "display_name": "Python 3",
   "language": "python",
   "name": "python3"
  },
  "language_info": {
   "codemirror_mode": {
    "name": "ipython",
    "version": 3
   },
   "file_extension": ".py",
   "mimetype": "text/x-python",
   "name": "python",
   "nbconvert_exporter": "python",
   "pygments_lexer": "ipython3",
   "version": "3.7.6"
  }
 },
 "nbformat": 4,
 "nbformat_minor": 4
}
